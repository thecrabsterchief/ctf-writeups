{
 "cells": [
  {
   "cell_type": "code",
   "execution_count": 6,
   "id": "e7b46c5f-f02f-48b8-909b-0e69ba5d6b5c",
   "metadata": {},
   "outputs": [],
   "source": [
    "class Twisted_Edwards:\n",
    "    # a * x**2 + y**2 = 1 + d * x**2 * y**2\n",
    "    # In this challenge: x ** 2 + y ** 2 = 1 + 3617 * x ** 2 * y ** 2\n",
    "    a, d = 1, 3617\n",
    "\n",
    "class Montgomery:\n",
    "    # B * y**2 = x**3 + A * x**2 + x\n",
    "    pass\n",
    "\n",
    "def isomorphism(T):\n",
    "    # Twisted_Edwards to Weierstrass\n",
    "    u, v = T\n",
    "    \n",
    "    # Twisted_Edwards to Montgomery\n",
    "    # Ref: https://www-fourier.univ-grenoble-alpes.fr/mphell/doc-v5/conversion_weierstrass_edwards.html\n",
    "    x = (1 + v) * pow(1 - v, -1, P) % P\n",
    "    y = (1 + v) * pow((1 - v)*u, -1, P) % P\n",
    "    \n",
    "    # Montgomery to Weierstrass\n",
    "    # Ref: https://math.stackexchange.com/questions/4180415/short-weierstrass-to-montgomery-curve-example\n",
    "    X = x * pow(B, -1, P) + A * pow(3*B, -1, P)\n",
    "    Y = y * pow(B, -1, P)\n",
    "    \n",
    "    return E(X, Y)"
   ]
  },
  {
   "cell_type": "code",
   "execution_count": 7,
   "id": "8a460683-be3d-42aa-b84c-4cc98af5db95",
   "metadata": {},
   "outputs": [],
   "source": [
    "P    = 2 ** 414 - 17\n",
    "a, d = 1, 3617\n",
    "\n",
    "# Twisted_Edwards to Montgomery\n",
    "A = 2 * (a + d) * pow(a - d, -1, P) % P\n",
    "B = 4 * pow(a - d, -1, P) % P\n",
    "\n",
    "# Montgomery to Weierstrass\n",
    "a = (3 - A**2) * pow(3*B**2, -1, P) % P\n",
    "b = (2*A**3 - 9*A) * pow(27*B**3, -1, P) % P\n",
    "E = EllipticCurve(GF(P), [a, b])\n",
    "\n",
    "# Twisted_Edwards Base\n",
    "Gt = (17319886477121189177719202498822615443556957307604340815256226171904769976866975908866528699294134494857887698432266169206165, 34)\n",
    "\n",
    "# Convert to Weierstrass Base\n",
    "Gw = isomorphism(Gt)\n",
    "\n",
    "# Convert enc to Weierstrass\n",
    "Ct = (29389900956614406804195679733048238721927197300216785144586024378999988819550861039522005309555174206184334563744077143526515, 35393890305755889860162885313105764163711685229222879079392595581125504924571957049674311023316022028491019878405896203357959)\n",
    "Cw = isomorphism(Ct)\n",
    "hint = 323811241263249292936728039512527915123919581362694022248295847200852329370976362254362732891461683020125008591836401372097"
   ]
  },
  {
   "cell_type": "code",
   "execution_count": 8,
   "id": "9159f0fe-04a9-4018-a27c-db6e8c61a164",
   "metadata": {},
   "outputs": [],
   "source": [
    "Cw -= hint*Gw\n",
    "G1, G2, G3 = 2**313*Gw, 2**196*Gw, 2**13*Gw\n",
    "mask =   (1 << 412) - 1\n",
    "mask ^^= ((1 << 22) -1) << 313\n",
    "mask ^^= ((1 << 22) -1) << 13\n",
    "mask ^^= 1 << 196"
   ]
  },
  {
   "cell_type": "code",
   "execution_count": 9,
   "id": "fb9c437b-0ff9-46af-8bc5-d6575c8a5d7e",
   "metadata": {},
   "outputs": [
    {
     "name": "stderr",
     "output_type": "stream",
     "text": [
      "100%|████████████████████████████████████████████████████████████████████████████████████████████████████████████████████████████| 4194304/4194304 [37:56<00:00, 1842.23it/s]\n"
     ]
    },
    {
     "ename": "TypeError",
     "evalue": "save() takes at least 2 positional arguments (1 given)",
     "output_type": "error",
     "traceback": [
      "\u001b[0;31m---------------------------------------------------------------------------\u001b[0m",
      "\u001b[0;31mTypeError\u001b[0m                                 Traceback (most recent call last)",
      "Cell \u001b[0;32mIn [9], line 9\u001b[0m\n\u001b[1;32m      6\u001b[0m \u001b[38;5;28;01mfor\u001b[39;00m x1 \u001b[38;5;129;01min\u001b[39;00m tqdm(\u001b[38;5;28mrange\u001b[39m(Integer(\u001b[38;5;241m2\u001b[39m)\u001b[38;5;241m*\u001b[39m\u001b[38;5;241m*\u001b[39mInteger(\u001b[38;5;241m22\u001b[39m))):\n\u001b[1;32m      7\u001b[0m     left[Cw \u001b[38;5;241m-\u001b[39m x1\u001b[38;5;241m*\u001b[39mG1] \u001b[38;5;241m=\u001b[39m x1\n\u001b[0;32m----> 9\u001b[0m \u001b[43msave\u001b[49m\u001b[43m(\u001b[49m\u001b[38;5;124;43m\"\u001b[39;49m\u001b[38;5;124;43mlog.sobj\u001b[39;49m\u001b[38;5;124;43m\"\u001b[39;49m\u001b[43m)\u001b[49m\n\u001b[1;32m     10\u001b[0m \u001b[38;5;28mprint\u001b[39m(\u001b[38;5;124m\"\u001b[39m\u001b[38;5;124mdone!\u001b[39m\u001b[38;5;124m\"\u001b[39m)\n",
      "File \u001b[0;32m~/Tools/sage/src/sage/misc/persist.pyx:223\u001b[0m, in \u001b[0;36msage.misc.persist.save\u001b[0;34m()\u001b[0m\n\u001b[1;32m    221\u001b[0m \n\u001b[1;32m    222\u001b[0m \n\u001b[0;32m--> 223\u001b[0m def save(obj, filename, compress=True, **kwargs):\n\u001b[1;32m    224\u001b[0m     \"\"\"\n\u001b[1;32m    225\u001b[0m     Save ``obj`` to the file with name ``filename``, which will have an\n",
      "\u001b[0;31mTypeError\u001b[0m: save() takes at least 2 positional arguments (1 given)"
     ]
    }
   ],
   "source": [
    "from tqdm import *\n",
    "\n",
    "# Cw = (hint + x1*2**313 + x2*2**196 + x3*2**13)*Gw \n",
    "\n",
    "left = dict()\n",
    "for x1 in tqdm(range(2**22)):\n",
    "    left[Cw - x1*G1] = x1\n",
    "\n",
    "save(\"log.sobj\")\n",
    "print(\"done!\")"
   ]
  },
  {
   "cell_type": "code",
   "execution_count": 10,
   "id": "163ecb46-965d-4114-88f9-86a73941fbfe",
   "metadata": {},
   "outputs": [
    {
     "data": {
      "text/plain": [
       "0"
      ]
     },
     "execution_count": 10,
     "metadata": {},
     "output_type": "execute_result"
    }
   ],
   "source": [
    "left[Cw]"
   ]
  },
  {
   "cell_type": "code",
   "execution_count": 11,
   "id": "1cf535e6-a73c-41f0-8a92-adaa129bfe6b",
   "metadata": {},
   "outputs": [
    {
     "name": "stderr",
     "output_type": "stream",
     "text": [
      " 14%|█████████████████                                                                                                           | 577686/4194304 [09:16<1:03:12, 953.53it/s]"
     ]
    },
    {
     "name": "stdout",
     "output_type": "stream",
     "text": [
      "1927017 0 577508\n"
     ]
    },
    {
     "name": "stderr",
     "output_type": "stream",
     "text": [
      " 20%|█████████████████████████▌                                                                                                   | 859197/4194304 [14:16<55:23, 1003.45it/s]\n"
     ]
    },
    {
     "ename": "KeyboardInterrupt",
     "evalue": "",
     "output_type": "error",
     "traceback": [
      "\u001b[0;31m---------------------------------------------------------------------------\u001b[0m",
      "\u001b[0;31mKeyboardInterrupt\u001b[0m                         Traceback (most recent call last)",
      "Cell \u001b[0;32mIn [11], line 3\u001b[0m\n\u001b[1;32m      1\u001b[0m \u001b[38;5;28;01mfor\u001b[39;00m x3 \u001b[38;5;129;01min\u001b[39;00m tqdm(\u001b[38;5;28mrange\u001b[39m(Integer(\u001b[38;5;241m2\u001b[39m)\u001b[38;5;241m*\u001b[39m\u001b[38;5;241m*\u001b[39mInteger(\u001b[38;5;241m22\u001b[39m))):\n\u001b[1;32m      2\u001b[0m     \u001b[38;5;28;01mfor\u001b[39;00m x2 \u001b[38;5;129;01min\u001b[39;00m \u001b[38;5;28mrange\u001b[39m(Integer(\u001b[38;5;241m2\u001b[39m)):\n\u001b[0;32m----> 3\u001b[0m         ok \u001b[38;5;241m=\u001b[39m x2\u001b[38;5;241m*\u001b[39mG2 \u001b[38;5;241m+\u001b[39m \u001b[43mx3\u001b[49m\u001b[38;5;241;43m*\u001b[39;49m\u001b[43mG3\u001b[49m\n\u001b[1;32m      4\u001b[0m         \u001b[38;5;28;01mif\u001b[39;00m ok \u001b[38;5;129;01min\u001b[39;00m left:\n\u001b[1;32m      5\u001b[0m             \u001b[38;5;28mprint\u001b[39m(left[ok], x2, x3)\n",
      "File \u001b[0;32m~/Tools/sage/src/sage/structure/element.pyx:1520\u001b[0m, in \u001b[0;36msage.structure.element.Element.__mul__\u001b[0;34m()\u001b[0m\n\u001b[1;32m   1518\u001b[0m     integer_check_long_py(left, &value, &err)\n\u001b[1;32m   1519\u001b[0m     if not err:\n\u001b[0;32m-> 1520\u001b[0m         return (<Element>right)._mul_long(value)\n\u001b[1;32m   1521\u001b[0m     return coercion_model.bin_op(left, right, mul)\n\u001b[1;32m   1522\u001b[0m except TypeError:\n",
      "File \u001b[0;32m~/Tools/sage/src/sage/structure/element.pyx:2410\u001b[0m, in \u001b[0;36msage.structure.element.ModuleElement._mul_long\u001b[0;34m()\u001b[0m\n\u001b[1;32m   2408\u001b[0m     if n == 1:\n\u001b[1;32m   2409\u001b[0m         return self\n\u001b[0;32m-> 2410\u001b[0m     return coercion_model.bin_op(self, n, mul)\n\u001b[1;32m   2411\u001b[0m \n\u001b[1;32m   2412\u001b[0m # rmul -- left * self\n",
      "File \u001b[0;32m~/Tools/sage/src/sage/structure/coerce.pyx:1217\u001b[0m, in \u001b[0;36msage.structure.coerce.CoercionModel.bin_op\u001b[0;34m()\u001b[0m\n\u001b[1;32m   1215\u001b[0m         return (<Action>action)._act_(x, y)\n\u001b[1;32m   1216\u001b[0m     else:\n\u001b[0;32m-> 1217\u001b[0m         return (<Action>action)._act_(y, x)\n\u001b[1;32m   1218\u001b[0m \n\u001b[1;32m   1219\u001b[0m # Now coerce to a common parent and do the operation there\n",
      "File \u001b[0;32m~/Tools/sage/src/sage/structure/coerce_actions.pyx:793\u001b[0m, in \u001b[0;36msage.structure.coerce_actions.IntegerMulAction._act_\u001b[0;34m()\u001b[0m\n\u001b[1;32m    791\u001b[0m \n\u001b[1;32m    792\u001b[0m         if integer_check_long(nn, &n_long, &err) and not err:\n\u001b[0;32m--> 793\u001b[0m             return fast_mul_long(a, n_long)\n\u001b[1;32m    794\u001b[0m \n\u001b[1;32m    795\u001b[0m         return fast_mul(a, nn)\n",
      "File \u001b[0;32m~/Tools/sage/src/sage/structure/coerce_actions.pyx:955\u001b[0m, in \u001b[0;36msage.structure.coerce_actions.fast_mul_long\u001b[0;34m()\u001b[0m\n\u001b[1;32m    953\u001b[0m n = n >> 1\n\u001b[1;32m    954\u001b[0m while n != 0:\n\u001b[0;32m--> 955\u001b[0m     pow2a += pow2a\n\u001b[1;32m    956\u001b[0m     if n & 1:\n\u001b[1;32m    957\u001b[0m         sum += pow2a\n",
      "File \u001b[0;32m~/Tools/sage/src/sage/structure/element.pyx:1223\u001b[0m, in \u001b[0;36msage.structure.element.Element.__add__\u001b[0;34m()\u001b[0m\n\u001b[1;32m   1221\u001b[0m cdef int cl = classify_elements(left, right)\n\u001b[1;32m   1222\u001b[0m if HAVE_SAME_PARENT(cl):\n\u001b[0;32m-> 1223\u001b[0m     return (<Element>left)._add_(right)\n\u001b[1;32m   1224\u001b[0m # Left and right are Sage elements => use coercion model\n\u001b[1;32m   1225\u001b[0m if BOTH_ARE_ELEMENT(cl):\n",
      "File \u001b[0;32m~/Tools/sage/src/sage/structure/element.pyx:2367\u001b[0m, in \u001b[0;36msage.structure.element.ModuleElement._add_\u001b[0;34m()\u001b[0m\n\u001b[1;32m   2365\u001b[0m Generic element of a module.\n\u001b[1;32m   2366\u001b[0m \"\"\"\n\u001b[0;32m-> 2367\u001b[0m cpdef _add_(self, other):\n\u001b[1;32m   2368\u001b[0m     \"\"\"\n\u001b[1;32m   2369\u001b[0m     Abstract addition method\n",
      "File \u001b[0;32m~/Tools/sage/src/sage/schemes/elliptic_curves/ell_point.py:673\u001b[0m, in \u001b[0;36mEllipticCurvePoint_field._add_\u001b[0;34m(self, right)\u001b[0m\n\u001b[1;32m    671\u001b[0m \u001b[38;5;28;01mif\u001b[39;00m right\u001b[38;5;241m.\u001b[39mis_zero():\n\u001b[1;32m    672\u001b[0m     \u001b[38;5;28;01mreturn\u001b[39;00m \u001b[38;5;28mself\u001b[39m\n\u001b[0;32m--> 673\u001b[0m E \u001b[38;5;241m=\u001b[39m \u001b[38;5;28;43mself\u001b[39;49m\u001b[38;5;241;43m.\u001b[39;49m\u001b[43mcurve\u001b[49m\u001b[43m(\u001b[49m\u001b[43m)\u001b[49m\n\u001b[1;32m    674\u001b[0m a1, a2, a3, a4, a6 \u001b[38;5;241m=\u001b[39m E\u001b[38;5;241m.\u001b[39mainvs()\n\u001b[1;32m    675\u001b[0m x1, y1 \u001b[38;5;241m=\u001b[39m \u001b[38;5;28mself\u001b[39m[\u001b[38;5;241m0\u001b[39m], \u001b[38;5;28mself\u001b[39m[\u001b[38;5;241m1\u001b[39m]\n",
      "File \u001b[0;32m~/Tools/sage/src/sage/schemes/elliptic_curves/ell_point.py:520\u001b[0m, in \u001b[0;36mEllipticCurvePoint_field.curve\u001b[0;34m(self)\u001b[0m\n\u001b[1;32m    509\u001b[0m \u001b[38;5;28;01mdef\u001b[39;00m \u001b[38;5;21mcurve\u001b[39m(\u001b[38;5;28mself\u001b[39m):\n\u001b[1;32m    510\u001b[0m     \u001b[38;5;124;03m\"\"\"\u001b[39;00m\n\u001b[1;32m    511\u001b[0m \u001b[38;5;124;03m    Return the curve that this point is on.\u001b[39;00m\n\u001b[1;32m    512\u001b[0m \n\u001b[0;32m   (...)\u001b[0m\n\u001b[1;32m    518\u001b[0m \u001b[38;5;124;03m        Elliptic Curve defined by y^2 + y = x^3 + x^2 - 2*x over Rational Field\u001b[39;00m\n\u001b[1;32m    519\u001b[0m \u001b[38;5;124;03m    \"\"\"\u001b[39;00m\n\u001b[0;32m--> 520\u001b[0m     \u001b[38;5;28;01mreturn\u001b[39;00m \u001b[38;5;28;43mself\u001b[39;49m\u001b[38;5;241;43m.\u001b[39;49m\u001b[43mscheme\u001b[49m\u001b[43m(\u001b[49m\u001b[43m)\u001b[49m\n",
      "File \u001b[0;32m~/Tools/sage/src/sage/schemes/elliptic_curves/ell_point.py:467\u001b[0m, in \u001b[0;36mEllipticCurvePoint_field.scheme\u001b[0;34m(self)\u001b[0m\n\u001b[1;32m    437\u001b[0m \u001b[38;5;124;03m\"\"\"\u001b[39;00m\n\u001b[1;32m    438\u001b[0m \u001b[38;5;124;03mReturn the scheme of this point, i.e., the curve it is on.\u001b[39;00m\n\u001b[1;32m    439\u001b[0m \u001b[38;5;124;03mThis is synonymous with :meth:`curve` which is perhaps more\u001b[39;00m\n\u001b[0;32m   (...)\u001b[0m\n\u001b[1;32m    455\u001b[0m \u001b[38;5;124;03m    over Number Field in a with defining polynomial x^2 - 3\u001b[39;00m\n\u001b[1;32m    456\u001b[0m \u001b[38;5;124;03m\"\"\"\u001b[39;00m\n\u001b[1;32m    457\u001b[0m \u001b[38;5;66;03m# The following text is just not true: it applies to the class\u001b[39;00m\n\u001b[1;32m    458\u001b[0m \u001b[38;5;66;03m# EllipticCurvePoint, which appears to be never used, but does\u001b[39;00m\n\u001b[1;32m    459\u001b[0m \u001b[38;5;66;03m# not apply to EllipticCurvePoint_field which is simply derived\u001b[39;00m\n\u001b[0;32m   (...)\u001b[0m\n\u001b[1;32m    464\u001b[0m \u001b[38;5;66;03m#  the codomain which is the curve.  See also domain() and\u001b[39;00m\n\u001b[1;32m    465\u001b[0m \u001b[38;5;66;03m#  codomain().\"\u001b[39;00m\n\u001b[0;32m--> 467\u001b[0m \u001b[38;5;28;01mreturn\u001b[39;00m \u001b[38;5;28;43mself\u001b[39;49m\u001b[38;5;241;43m.\u001b[39;49m\u001b[43mcodomain\u001b[49m()\n",
      "File \u001b[0;32m~/Tools/sage/src/sage/misc/lazy_attribute.pyx:127\u001b[0m, in \u001b[0;36msage.misc.lazy_attribute._lazy_attribute.__get__\u001b[0;34m()\u001b[0m\n\u001b[1;32m    125\u001b[0m     except KeyError:\n\u001b[1;32m    126\u001b[0m         pass\n\u001b[0;32m--> 127\u001b[0m result = self.f(a)\n\u001b[1;32m    128\u001b[0m if result is NotImplemented:\n\u001b[1;32m    129\u001b[0m     # Workaround: we make sure that cls is the class\n",
      "File \u001b[0;32m~/Tools/sage/src/sage/schemes/generic/morphism.py:187\u001b[0m, in \u001b[0;36mSchemeMorphism.codomain\u001b[0;34m(self)\u001b[0m\n\u001b[1;32m    174\u001b[0m     \u001b[38;5;124mr\u001b[39m\u001b[38;5;124;03m\"\"\"\u001b[39;00m\n\u001b[1;32m    175\u001b[0m \u001b[38;5;124;03m    The constant function from the domain.\u001b[39;00m\n\u001b[1;32m    176\u001b[0m \n\u001b[0;32m   (...)\u001b[0m\n\u001b[1;32m    183\u001b[0m \u001b[38;5;124;03m        True\u001b[39;00m\n\u001b[1;32m    184\u001b[0m \u001b[38;5;124;03m    \"\"\"\u001b[39;00m\n\u001b[1;32m    185\u001b[0m     \u001b[38;5;28;01mreturn\u001b[39;00m ConstantFunction(\u001b[38;5;28mself\u001b[39m\u001b[38;5;241m.\u001b[39mparent()\u001b[38;5;241m.\u001b[39mdomain())\n\u001b[0;32m--> 187\u001b[0m \u001b[38;5;129m@lazy_attribute\u001b[39m\n\u001b[1;32m    188\u001b[0m \u001b[38;5;28;01mdef\u001b[39;00m \u001b[38;5;21mcodomain\u001b[39m(\u001b[38;5;28mself\u001b[39m):\n\u001b[1;32m    189\u001b[0m     \u001b[38;5;124mr\u001b[39m\u001b[38;5;124;03m\"\"\"\u001b[39;00m\n\u001b[1;32m    190\u001b[0m \u001b[38;5;124;03m    The constant function from the codomain.\u001b[39;00m\n\u001b[1;32m    191\u001b[0m \n\u001b[0;32m   (...)\u001b[0m\n\u001b[1;32m    198\u001b[0m \u001b[38;5;124;03m        True\u001b[39;00m\n\u001b[1;32m    199\u001b[0m \u001b[38;5;124;03m    \"\"\"\u001b[39;00m\n\u001b[1;32m    200\u001b[0m     \u001b[38;5;28;01mreturn\u001b[39;00m ConstantFunction(\u001b[38;5;28mself\u001b[39m\u001b[38;5;241m.\u001b[39m_codomain)\n",
      "File \u001b[0;32msrc/cysignals/signals.pyx:310\u001b[0m, in \u001b[0;36mcysignals.signals.python_check_interrupt\u001b[0;34m()\u001b[0m\n",
      "\u001b[0;31mKeyboardInterrupt\u001b[0m: "
     ]
    }
   ],
   "source": [
    "for x3 in tqdm(range(2**22)):\n",
    "    for x2 in range(2):\n",
    "        ok = x2*G2 + x3*G3\n",
    "        if ok in left:\n",
    "            print(left[ok], x2, x3)"
   ]
  },
  {
   "cell_type": "code",
   "execution_count": 12,
   "id": "9ba6dc4d-1e46-4a06-83aa-109d2401e265",
   "metadata": {},
   "outputs": [
    {
     "name": "stdout",
     "output_type": "stream",
     "text": [
      "b'maple{th3_3dw4rd_cu12ve_and_kn0wn_bits_dlp}'\n"
     ]
    }
   ],
   "source": [
    "x1, x2, x3 = 1927017, 0 ,577508\n",
    "order = 2 ** 411 - 33364140863755142520810177694098385178984727200411208589594759\n",
    "C = hint + x1*2**313 + x2*2**196 + x3*2**13\n",
    "m = pow(C, -1, order)\n",
    "\n",
    "from Crypto.Util.number import *\n",
    "print(long_to_bytes(m))"
   ]
  },
  {
   "cell_type": "code",
   "execution_count": null,
   "id": "2b4d4ab9-c527-4e38-add0-f2aefd9d4473",
   "metadata": {},
   "outputs": [],
   "source": []
  }
 ],
 "metadata": {
  "kernelspec": {
   "display_name": "SageMath 10.1",
   "language": "sage",
   "name": "sagemath"
  },
  "language_info": {
   "codemirror_mode": {
    "name": "ipython",
    "version": 3
   },
   "file_extension": ".py",
   "mimetype": "text/x-python",
   "name": "python",
   "nbconvert_exporter": "python",
   "pygments_lexer": "ipython3",
   "version": "3.10.12"
  }
 },
 "nbformat": 4,
 "nbformat_minor": 5
}
