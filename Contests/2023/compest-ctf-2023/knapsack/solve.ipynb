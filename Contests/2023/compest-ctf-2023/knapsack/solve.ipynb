{
 "cells": [
  {
   "cell_type": "code",
   "execution_count": 40,
   "id": "e68973c6-cf51-4d84-8167-912144a42b8a",
   "metadata": {},
   "outputs": [],
   "source": [
    "from pwn import *\n",
    "from jvdsn.attacks.knapsack.low_density import attack"
   ]
  },
  {
   "cell_type": "code",
   "execution_count": 49,
   "id": "92931ce0-afcf-4fb7-b58f-b4dd02af87c3",
   "metadata": {},
   "outputs": [],
   "source": [
    "def to_bits(m):\n",
    "    _bin = lambda b: [1 if b & (1 << n) else 0 for n in range(7)]\n",
    "    return sum([_bin(b) for b in m], [])\n",
    "\n",
    "def to_bytes(bits):\n",
    "    _byte = lambda b: sum([b[i] << i for i in range(7)])\n",
    "    return bytes([_byte(bits[i : i + 7]) for i in range(0, len(bits), 7)])\n",
    "\n",
    "with open(\"./output.txt\", \"r\") as f:\n",
    "    exec(f.readline().strip())\n",
    "    p_msg = f.read().encode()"
   ]
  },
  {
   "cell_type": "code",
   "execution_count": 46,
   "id": "46059980-7ca9-4e21-a927-ea8b1e5713a0",
   "metadata": {},
   "outputs": [
    {
     "name": "stdout",
     "output_type": "stream",
     "text": [
      "[*] Start...\n",
      "[*] Found!\n",
      "pubkey: (202268999244591785584566464753289, 429481650350982224726540148422072, 513970026512572516113525776325248, 28117338492482390640953333703346, 186478220980676412258710097278824, 462107941653161013119183689513668, 251033680402139409627861954081627, 387816645824497842897510344498537, 164216600494137571823429526298731, 71778558816306530276260088958157, 479183011393572102154187215734921, 188237385509602029366682887942757, 164510164493942220113929554143015, 351957897387419262141620439154413, 559564023232732499808238313579215, 132277552177561352557338493209814, 178940764650522512349239779345091, 18866483643001119992915813508719, 65129268506159449846196687577134, 167844715331905178809461440317639, 187057779217236112720777337188447, 255235457949798322226331129469322, 542112960942493765359209270647723, 114204524812950672204089546427243, 53252437125337397373227709083049, 247770731648992733096183772815536, 370278558235654291454711551198693, 204891318167558074435123111701205, 346727118758224765373461446521918, 383267401562421973802058492472223, 417343176245713459916869587269198, 402777959260550580969689993776134, 256182522762462197049974160316147, 12633876948394660593286916001351, 314759385142403326392078244802058, 263384123584500671540118032288133, 38650772398307717379496756747526, 306247616243715512386307466259185, 18476145088228804143170873686713, 117347060602402743026648839960226, 532135003875215013523423589192213, 48852380988000293381223282153612, 392265050642625455268293151465954, 476031692087751937639870601144694, 313629857431146857184719536982718, 401494270926634643978458681547252, 469566569599947139086905470473261, 35198969362337022791203043174857, 302866869873710554417387933256528, 568209519326416227422311570586209, 346972863738514859986014024700232, 228494377266333974424439321983382, 273276775819051056644733188417501, 375104893892478155799313329948322, 505185562312989073710257542456512, 487212675194015362273133188431578, 482365437683654780746878113745270, 431965489061014360035520964200531, 408258373241369446583858893702995, 470031010237858817507296825649368, 257013818984828645730461138618543, 54947842649555394131632787661575, 515120777972555489955179566266686, 221636118181162865445925087810764, 261861417553256248241702651575262, 292909311966757680411011941074079, 574982374582780447492152113881912, 558873603864855849876018552771791, 297055452910545368134149122366836, 10217264473676430559765113019100)\n",
      "keysize: 70\n",
      "[*] Done!\n"
     ]
    }
   ],
   "source": [
    "def recover_pubkey(enc):\n",
    "    msg_bits = to_bits(p_msg)[:]\n",
    "    n = len(msg_bits)\n",
    "    \n",
    "    res = []\n",
    "    info(\"Start...\")\n",
    "    for keysize in range(1, 92):\n",
    "        b = vector(ZZ, enc[:n//keysize])\n",
    "        A = []\n",
    "        for i in range(n//keysize):\n",
    "            A.append(msg_bits[i*keysize : (i+1)*keysize])\n",
    "        A = matrix(n//keysize, keysize, A)\n",
    "        \n",
    "        try:\n",
    "            x = A.solve_right(b)\n",
    "            if all(xi > 0 for xi in x):\n",
    "                info(\"Found!\")\n",
    "                print(\"\\rpubkey:\", x)\n",
    "                print(\"\\rkeysize:\", keysize)\n",
    "                res.append([int(xi) for xi in x])\n",
    "        except:\n",
    "            pass\n",
    "    info(\"Done!\")\n",
    "    return res\n",
    "\n",
    "pubkey = recover_pubkey(enc)[0]"
   ]
  },
  {
   "cell_type": "code",
   "execution_count": 50,
   "id": "7e805acb-644b-4493-8dab-3702d6645757",
   "metadata": {},
   "outputs": [
    {
     "name": "stdout",
     "output_type": "stream",
     "text": [
      "b\"The Merkle-Hellman Knapsack Cryptosystem, developed by Ralph Merkle and Martin Hellman, is a public-key encryption algorithm known for its resistance to attacks using conventional computers. It operates on the principle of the knapsack problem, making it difficult to solve without the private key.\\nIn this cry?????????? a superincreasing knapsack is created as the public key. Each element of the knapsack is generated using a specific algorithm, ensuring that the sum of any subset of elements is unique. This property makes it challenging to deduce the original combination used to create the knapsack.\\nTo e??????????essage, the plaintext is divided into binary bits and combined with the public key. This process results in a ciphertext that obscures the original message. Decrypting the ciphertext requires the knowledge of the private key, which is a set of carefully selected parameters used to generate the knapsack.\\nThe security of the Merkle-Hellman Knapsack Cryptosystem relies on the complexity of solving the subset sum problem, which is considered computationally difficult. Traditional methods, such as brute-force attacks, are ineffective due to the large search space involved. However, it's worth noting that the original implementation of this algorithm was found to be vulnerable to certain attacks.\\nDespite its vulnerabilities, the Merkle-Hellman Knapsack Cry??????????played a crucial role in the development of modern cryptography. Waduch-waduch ketahuan ini flagnya taihenn~~~ COMPFEST15{D4ngerr_LLL_1s_Ev3ryWh3r3_ed2c699bb3}. Its ideas influenced subsequent algorithms and provided valuable insights into public-key encryptio??????????me, more robust and secure algorithms, such as RSA and elliptic curve cryptography, have gained prominence.\\x00\\x00\\x00\"\n"
     ]
    }
   ],
   "source": [
    "message = b\"\"\n",
    "\n",
    "for c in enc:\n",
    "    try:\n",
    "        bits = attack(pubkey, c)\n",
    "        message += to_bytes(bits)\n",
    "    except:\n",
    "        message += b\"?\"*10\n",
    "\n",
    "print(message)"
   ]
  },
  {
   "cell_type": "code",
   "execution_count": null,
   "id": "31759199-8a1f-4517-b1f9-2f24a27c98a1",
   "metadata": {},
   "outputs": [],
   "source": []
  }
 ],
 "metadata": {
  "kernelspec": {
   "display_name": "SageMath 10.1",
   "language": "sage",
   "name": "sagemath"
  },
  "language_info": {
   "codemirror_mode": {
    "name": "ipython",
    "version": 3
   },
   "file_extension": ".py",
   "mimetype": "text/x-python",
   "name": "python",
   "nbconvert_exporter": "python",
   "pygments_lexer": "ipython3",
   "version": "3.10.12"
  }
 },
 "nbformat": 4,
 "nbformat_minor": 5
}
