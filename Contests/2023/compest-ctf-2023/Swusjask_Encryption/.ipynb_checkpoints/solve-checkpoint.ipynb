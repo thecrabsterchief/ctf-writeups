{
 "cells": [
  {
   "cell_type": "code",
   "execution_count": 1,
   "id": "136016cb-b88f-4109-b1a1-a1c2c08f9f2e",
   "metadata": {},
   "outputs": [],
   "source": [
    "# f(G)     = x + ky\n",
    "# f(AB)    = x1x2 - 6969*y1y2 + k(x1y2 + y1x2 - 69*y1y2) \n",
    "#          = x1x2 + k(x1y2 + y1x2) + (-6969 - 69k)y1y2\n",
    "# f(A)f(B) = (x1 + k*y1)(x2 + k*y2)\n",
    "#          = x1x2 + k(x1y2 + y1x2) + k**2 * y1y2\n",
    "# => k**2 + 69k + 6969 = 0"
   ]
  },
  {
   "cell_type": "code",
   "execution_count": 24,
   "id": "6039edff-f148-4cb7-9f9a-2c4acd3cc44b",
   "metadata": {},
   "outputs": [
    {
     "name": "stdout",
     "output_type": "stream",
     "text": [
      "1009648402279662996022375975609307864*z2 + 620905232372407200758597814246554238\n"
     ]
    }
   ],
   "source": [
    "p  = 1179478847235411356076287763101027881\n",
    "e  = 0x10001\n",
    "F = GF(p**2); z2 = F.gens()[0]\n",
    "\n",
    "PR.<x> = PolynomialRing(F)\n",
    "fx = x**2 + 69*x + 6969\n",
    "k,_= fx.roots()[0]; print(k)"
   ]
  },
  {
   "cell_type": "code",
   "execution_count": 33,
   "id": "861ecf73-1049-4f9f-8359-9a652dc73665",
   "metadata": {},
   "outputs": [],
   "source": [
    "from Crypto.Util.number import long_to_bytes, bytes_to_long\n",
    "\n",
    "def gf2point(f):\n",
    "    f = str(f)\n",
    "    if \"z2\" in f:\n",
    "        return [int(i) for i in f.split(\"*z2 + \")][::-1]\n",
    "    else:\n",
    "        return [0, int(f)][::-1]\n",
    "\n",
    "def bytes_to_block(msg: bytes):\n",
    "    res = []\n",
    "    msg_int = bytes_to_long(msg)\n",
    "    while msg_int:\n",
    "        res.append(msg_int % (p**2))\n",
    "        msg_int //= p**2\n",
    "    return res\n",
    "\n",
    "\n",
    "def block_to_bytes(blocks: list[int]):\n",
    "    res = 0\n",
    "    for i in range(len(blocks) - 1, -1, -1):\n",
    "        res *= p**2\n",
    "        res += blocks[i]\n",
    "    return long_to_bytes(res)"
   ]
  },
  {
   "cell_type": "code",
   "execution_count": 37,
   "id": "89f9ab59-24ef-4131-915b-e021a8a99fb4",
   "metadata": {},
   "outputs": [
    {
     "name": "stdout",
     "output_type": "stream",
     "text": [
      "done!\n"
     ]
    }
   ],
   "source": [
    "kx, ky = gf2point(k)\n",
    "assert kx + z2*ky == k\n",
    "\n",
    "with open(\"./flag.enc\", \"rb\") as fi:\n",
    "    blocks = bytes_to_block(fi.read())\n",
    "    flag = []\n",
    "    \n",
    "    for block in blocks:\n",
    "        ca, cb = block%p, block//p\n",
    "        # homomophism\n",
    "        c  = ca + k*cb\n",
    "        _m = F(c).nth_root(e)\n",
    "        _mx, _my = gf2point(_m)\n",
    "        \n",
    "        b = pow(ky, -1, p) * _my % p\n",
    "        a = (_mx - b*kx) % p\n",
    "        flag.append(a + b*p)\n",
    "        \n",
    "    open(\"flag.png\", \"wb\").write(block_to_bytes(flag))\n",
    "    print(\"done!\")"
   ]
  },
  {
   "cell_type": "code",
   "execution_count": null,
   "id": "c74b1c1e-7343-485d-89e1-35b2c7ba046a",
   "metadata": {},
   "outputs": [],
   "source": []
  }
 ],
 "metadata": {
  "kernelspec": {
   "display_name": "SageMath 10.1",
   "language": "sage",
   "name": "sagemath"
  },
  "language_info": {
   "codemirror_mode": {
    "name": "ipython",
    "version": 3
   },
   "file_extension": ".py",
   "mimetype": "text/x-python",
   "name": "python",
   "nbconvert_exporter": "python",
   "pygments_lexer": "ipython3",
   "version": "3.10.12"
  }
 },
 "nbformat": 4,
 "nbformat_minor": 5
}
